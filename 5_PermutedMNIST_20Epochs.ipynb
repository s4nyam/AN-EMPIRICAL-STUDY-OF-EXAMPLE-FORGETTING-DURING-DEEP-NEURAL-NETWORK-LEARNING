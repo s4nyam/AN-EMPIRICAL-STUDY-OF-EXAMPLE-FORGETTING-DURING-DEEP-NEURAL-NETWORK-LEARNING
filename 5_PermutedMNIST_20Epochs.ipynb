{
  "nbformat": 4,
  "nbformat_minor": 0,
  "metadata": {
    "colab": {
      "name": "5_PermutedMNIST_20Epochs",
      "provenance": []
    },
    "kernelspec": {
      "name": "python3",
      "display_name": "Python 3"
    },
    "language_info": {
      "name": "python"
    },
    "accelerator": "GPU"
  },
  "cells": [
    {
      "cell_type": "code",
      "metadata": {
        "id": "k0TAZkIDDRAx",
        "colab": {
          "base_uri": "https://localhost:8080/"
        },
        "outputId": "1bd0f3ba-ec71-42cd-f768-f5e64008bb46"
      },
      "source": [
        "!git clone https://github.com/mtoneva/example_forgetting.git"
      ],
      "execution_count": 1,
      "outputs": [
        {
          "output_type": "stream",
          "name": "stdout",
          "text": [
            "Cloning into 'example_forgetting'...\n",
            "remote: Enumerating objects: 194, done.\u001b[K\n",
            "remote: Total 194 (delta 0), reused 0 (delta 0), pack-reused 194\u001b[K\n",
            "Receiving objects: 100% (194/194), 566.18 KiB | 4.49 MiB/s, done.\n",
            "Resolving deltas: 100% (102/102), done.\n"
          ]
        }
      ]
    },
    {
      "cell_type": "code",
      "metadata": {
        "colab": {
          "base_uri": "https://localhost:8080/"
        },
        "id": "KdwvBIy3piZZ",
        "outputId": "177f5e0e-e4ff-4aba-9b50-25db946a45cf"
      },
      "source": [
        "%cd example_forgetting/"
      ],
      "execution_count": 2,
      "outputs": [
        {
          "output_type": "stream",
          "name": "stdout",
          "text": [
            "/content/example_forgetting\n"
          ]
        }
      ]
    },
    {
      "cell_type": "code",
      "metadata": {
        "colab": {
          "base_uri": "https://localhost:8080/"
        },
        "id": "5FzzHYD2qI9Z",
        "outputId": "69e1a4d1-6a91-44e6-ac3b-729016b175f2"
      },
      "source": [
        "!pip install -r requirements.txt\n"
      ],
      "execution_count": 3,
      "outputs": [
        {
          "output_type": "stream",
          "name": "stdout",
          "text": [
            "Requirement already satisfied: numpy in /usr/local/lib/python3.7/dist-packages (from -r requirements.txt (line 1)) (1.19.5)\n",
            "Collecting torch==0.4.1.post2\n",
            "  Downloading torch-0.4.1.post2-cp37-cp37m-manylinux1_x86_64.whl (519.5 MB)\n",
            "\u001b[K     |████████████████████████████████| 519.5 MB 24 kB/s \n",
            "\u001b[?25hCollecting torchvision==0.1.8\n",
            "  Downloading torchvision-0.1.8-py2.py3-none-any.whl (37 kB)\n",
            "Requirement already satisfied: pillow in /usr/local/lib/python3.7/dist-packages (from torchvision==0.1.8->-r requirements.txt (line 3)) (7.1.2)\n",
            "Requirement already satisfied: six in /usr/local/lib/python3.7/dist-packages (from torchvision==0.1.8->-r requirements.txt (line 3)) (1.15.0)\n",
            "Installing collected packages: torch, torchvision\n",
            "  Attempting uninstall: torch\n",
            "    Found existing installation: torch 1.9.0+cu102\n",
            "    Uninstalling torch-1.9.0+cu102:\n",
            "      Successfully uninstalled torch-1.9.0+cu102\n",
            "  Attempting uninstall: torchvision\n",
            "    Found existing installation: torchvision 0.10.0+cu102\n",
            "    Uninstalling torchvision-0.10.0+cu102:\n",
            "      Successfully uninstalled torchvision-0.10.0+cu102\n",
            "\u001b[31mERROR: pip's dependency resolver does not currently take into account all the packages that are installed. This behaviour is the source of the following dependency conflicts.\n",
            "torchtext 0.10.0 requires torch==1.9.0, but you have torch 0.4.1.post2 which is incompatible.\n",
            "fastai 1.0.61 requires torch>=1.0.0, but you have torch 0.4.1.post2 which is incompatible.\u001b[0m\n",
            "Successfully installed torch-0.4.1.post2 torchvision-0.1.8\n"
          ]
        }
      ]
    },
    {
      "cell_type": "code",
      "metadata": {
        "colab": {
          "base_uri": "https://localhost:8080/"
        },
        "id": "hCDKklJ6vej3",
        "outputId": "2c26fe2d-5bb0-4f71-82c4-3ad47655bd16"
      },
      "source": [
        "!python run_mnist.py --dataset permuted_mnist --epochs 20 --no_dropout --output_dir permuted_mnist_results --seed 2"
      ],
      "execution_count": 4,
      "outputs": [
        {
          "output_type": "stream",
          "name": "stdout",
          "text": [
            "{'dataset': 'permuted_mnist', 'batch_size': 64, 'epochs': 20, 'lr': 0.01, 'momentum': 0.5, 'no_cuda': False, 'seed': 2, 'sorting_file': 'none', 'remove_n': 0, 'keep_lowest_n': 0, 'no_dropout': True, 'input_dir': 'mnist_results/', 'output_dir': 'permuted_mnist_results'}\n",
            "Downloading http://yann.lecun.com/exdb/mnist/train-images-idx3-ubyte.gz\n",
            "Downloading http://yann.lecun.com/exdb/mnist/train-labels-idx1-ubyte.gz\n",
            "Downloading http://yann.lecun.com/exdb/mnist/t10k-images-idx3-ubyte.gz\n",
            "Downloading http://yann.lecun.com/exdb/mnist/t10k-labels-idx1-ubyte.gz\n",
            "Processing...\n",
            "Done!\n",
            "Training on 60000 examples\n",
            "/usr/local/lib/python3.7/dist-packages/torch/nn/functional.py:52: UserWarning: size_average and reduce args will be deprecated, please use reduction='none' instead.\n",
            "  warnings.warn(warning.format(ret))\n",
            "| Epoch [  0/ 20] Iter[938/938]\t\tLoss: 0.2415 Acc@1: 64.107%\n",
            "| Validation Epoch #0\t\t\tLoss: 0.2109 Acc@1: 87.42%\n",
            "| Elapsed time : 0:00:38\n",
            "| Epoch [  1/ 20] Iter[938/938]\t\tLoss: 0.1430 Acc@1: 89.505%\n",
            "| Validation Epoch #1\t\t\tLoss: 0.0636 Acc@1: 91.30%\n",
            "| Elapsed time : 0:01:16\n",
            "| Epoch [  2/ 20] Iter[938/938]\t\tLoss: 0.2011 Acc@1: 92.403%\n",
            "| Validation Epoch #2\t\t\tLoss: 0.0358 Acc@1: 93.09%\n",
            "| Elapsed time : 0:01:55\n",
            "| Epoch [  3/ 20] Iter[938/938]\t\tLoss: 0.0977 Acc@1: 93.773%\n",
            "| Validation Epoch #3\t\t\tLoss: 0.0473 Acc@1: 93.76%\n",
            "| Elapsed time : 0:02:33\n",
            "| Epoch [  4/ 20] Iter[938/938]\t\tLoss: 0.2051 Acc@1: 94.630%\n",
            "| Validation Epoch #4\t\t\tLoss: 0.0442 Acc@1: 94.27%\n",
            "| Elapsed time : 0:03:12\n",
            "| Epoch [  5/ 20] Iter[938/938]\t\tLoss: 0.0961 Acc@1: 95.302%\n",
            "| Validation Epoch #5\t\t\tLoss: 0.0478 Acc@1: 94.15%\n",
            "| Elapsed time : 0:03:51\n",
            "| Epoch [  6/ 20] Iter[938/938]\t\tLoss: 0.2969 Acc@1: 95.655%\n",
            "| Validation Epoch #6\t\t\tLoss: 0.0203 Acc@1: 94.18%\n",
            "| Elapsed time : 0:04:29\n",
            "| Epoch [  7/ 20] Iter[938/938]\t\tLoss: 0.1055 Acc@1: 96.048%\n",
            "| Validation Epoch #7\t\t\tLoss: 0.0084 Acc@1: 94.83%\n",
            "| Elapsed time : 0:05:08\n",
            "| Epoch [  8/ 20] Iter[938/938]\t\tLoss: 0.1346 Acc@1: 96.242%\n",
            "| Validation Epoch #8\t\t\tLoss: 0.0323 Acc@1: 94.91%\n",
            "| Elapsed time : 0:05:46\n",
            "| Epoch [  9/ 20] Iter[938/938]\t\tLoss: 0.0653 Acc@1: 96.573%\n",
            "| Validation Epoch #9\t\t\tLoss: 0.0164 Acc@1: 94.98%\n",
            "| Elapsed time : 0:06:24\n",
            "| Epoch [ 10/ 20] Iter[938/938]\t\tLoss: 0.0955 Acc@1: 96.775%\n",
            "| Validation Epoch #10\t\t\tLoss: 0.0137 Acc@1: 95.05%\n",
            "| Elapsed time : 0:07:03\n",
            "| Epoch [ 11/ 20] Iter[938/938]\t\tLoss: 0.2146 Acc@1: 96.928%\n",
            "| Validation Epoch #11\t\t\tLoss: 0.0143 Acc@1: 93.90%\n",
            "| Elapsed time : 0:07:42\n",
            "| Epoch [ 12/ 20] Iter[938/938]\t\tLoss: 0.3529 Acc@1: 97.113%\n",
            "| Validation Epoch #12\t\t\tLoss: 0.0053 Acc@1: 95.27%\n",
            "| Elapsed time : 0:08:20\n",
            "| Epoch [ 13/ 20] Iter[938/938]\t\tLoss: 0.0446 Acc@1: 97.285%\n",
            "| Validation Epoch #13\t\t\tLoss: 0.0031 Acc@1: 95.26%\n",
            "| Elapsed time : 0:08:59\n",
            "| Epoch [ 14/ 20] Iter[938/938]\t\tLoss: 0.0765 Acc@1: 97.337%\n",
            "| Validation Epoch #14\t\t\tLoss: 0.0070 Acc@1: 95.21%\n",
            "| Elapsed time : 0:09:38\n",
            "| Epoch [ 15/ 20] Iter[938/938]\t\tLoss: 0.0065 Acc@1: 97.557%\n",
            "| Validation Epoch #15\t\t\tLoss: 0.0046 Acc@1: 95.13%\n",
            "| Elapsed time : 0:10:16\n",
            "| Epoch [ 16/ 20] Iter[938/938]\t\tLoss: 0.0191 Acc@1: 97.575%\n",
            "| Validation Epoch #16\t\t\tLoss: 0.0035 Acc@1: 95.31%\n",
            "| Elapsed time : 0:10:55\n",
            "| Epoch [ 17/ 20] Iter[938/938]\t\tLoss: 0.0382 Acc@1: 97.800%\n",
            "| Validation Epoch #17\t\t\tLoss: 0.0308 Acc@1: 94.66%\n",
            "| Elapsed time : 0:11:33\n",
            "| Epoch [ 18/ 20] Iter[938/938]\t\tLoss: 0.0381 Acc@1: 97.885%\n",
            "| Validation Epoch #18\t\t\tLoss: 0.0020 Acc@1: 95.35%\n",
            "| Elapsed time : 0:12:11\n",
            "| Epoch [ 19/ 20] Iter[938/938]\t\tLoss: 0.0426 Acc@1: 97.962%\n",
            "| Validation Epoch #19\t\t\tLoss: 0.0011 Acc@1: 95.16%\n",
            "| Elapsed time : 0:12:49\n"
          ]
        }
      ]
    },
    {
      "cell_type": "code",
      "metadata": {
        "colab": {
          "base_uri": "https://localhost:8080/"
        },
        "id": "oTDrMx-d7W5x",
        "outputId": "f89bcfce-6418-49be-fb03-622cb2a8eda6"
      },
      "source": [
        "!python order_examples_by_forgetting.py --output_dir permuted_mnist_results --output_name permuted_mnist_sorted --input_dir permuted_mnist_results --input_fname_args dataset permuted_mnist no_dropout True sorting_file none remove_n 0 keep_lowest_n 0"
      ],
      "execution_count": 5,
      "outputs": [
        {
          "output_type": "stream",
          "name": "stdout",
          "text": [
            "Namespace(epochs=200, input_dir='permuted_mnist_results', input_fname_args=['dataset', 'permuted_mnist', 'no_dropout', 'True', 'sorting_file', 'none', 'remove_n', '0', 'keep_lowest_n', '0'], output_dir='permuted_mnist_results', output_name='permuted_mnist_sorted')\n",
            "including file: dataset_permuted_mnist__no_dropout_True__seed_2__sorting_file_none__remove_n_0__keep_lowest_n_0__stats_dict.pkl\n",
            "Number of unforgettable examples: 54056\n"
          ]
        }
      ]
    },
    {
      "cell_type": "code",
      "metadata": {
        "id": "VBN9JFCmUBHs"
      },
      "source": [
        ""
      ],
      "execution_count": null,
      "outputs": []
    }
  ]
}