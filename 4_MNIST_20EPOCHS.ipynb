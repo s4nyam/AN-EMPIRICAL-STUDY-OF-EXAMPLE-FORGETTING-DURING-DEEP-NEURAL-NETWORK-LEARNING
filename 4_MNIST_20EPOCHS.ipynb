{
  "nbformat": 4,
  "nbformat_minor": 0,
  "metadata": {
    "colab": {
      "name": "[1][MNSIT_usingcommands]Assignment_1_AML_Paper_Implementation.ipynb",
      "provenance": []
    },
    "kernelspec": {
      "name": "python3",
      "display_name": "Python 3"
    },
    "language_info": {
      "name": "python"
    },
    "accelerator": "GPU"
  },
  "cells": [
    {
      "cell_type": "code",
      "metadata": {
        "id": "k0TAZkIDDRAx",
        "colab": {
          "base_uri": "https://localhost:8080/"
        },
        "outputId": "a1cb10f9-d2ac-4fe0-fff1-eacdbe6ead35"
      },
      "source": [
        "!git clone https://github.com/mtoneva/example_forgetting.git"
      ],
      "execution_count": 1,
      "outputs": [
        {
          "output_type": "stream",
          "name": "stdout",
          "text": [
            "Cloning into 'example_forgetting'...\n",
            "remote: Enumerating objects: 194, done.\u001b[K\n",
            "remote: Total 194 (delta 0), reused 0 (delta 0), pack-reused 194\u001b[K\n",
            "Receiving objects: 100% (194/194), 566.18 KiB | 1.25 MiB/s, done.\n",
            "Resolving deltas: 100% (102/102), done.\n"
          ]
        }
      ]
    },
    {
      "cell_type": "code",
      "metadata": {
        "colab": {
          "base_uri": "https://localhost:8080/"
        },
        "id": "KdwvBIy3piZZ",
        "outputId": "9982f82e-4d50-4569-8e15-a7979ba071f7"
      },
      "source": [
        "%cd example_forgetting/"
      ],
      "execution_count": 2,
      "outputs": [
        {
          "output_type": "stream",
          "name": "stdout",
          "text": [
            "/content/example_forgetting\n"
          ]
        }
      ]
    },
    {
      "cell_type": "code",
      "metadata": {
        "colab": {
          "base_uri": "https://localhost:8080/"
        },
        "id": "5FzzHYD2qI9Z",
        "outputId": "5b1a10bd-7775-4c85-ba0d-2832a5fd1dd2"
      },
      "source": [
        "!pip install -r requirements.txt\n"
      ],
      "execution_count": 3,
      "outputs": [
        {
          "output_type": "stream",
          "name": "stdout",
          "text": [
            "Requirement already satisfied: numpy in /usr/local/lib/python3.7/dist-packages (from -r requirements.txt (line 1)) (1.19.5)\n",
            "Collecting torch==0.4.1.post2\n",
            "  Downloading torch-0.4.1.post2-cp37-cp37m-manylinux1_x86_64.whl (519.5 MB)\n",
            "\u001b[K     |████████████████████████████████| 519.5 MB 24 kB/s \n",
            "\u001b[?25hCollecting torchvision==0.1.8\n",
            "  Downloading torchvision-0.1.8-py2.py3-none-any.whl (37 kB)\n",
            "Requirement already satisfied: six in /usr/local/lib/python3.7/dist-packages (from torchvision==0.1.8->-r requirements.txt (line 3)) (1.15.0)\n",
            "Requirement already satisfied: pillow in /usr/local/lib/python3.7/dist-packages (from torchvision==0.1.8->-r requirements.txt (line 3)) (7.1.2)\n",
            "Installing collected packages: torch, torchvision\n",
            "  Attempting uninstall: torch\n",
            "    Found existing installation: torch 1.9.0+cu102\n",
            "    Uninstalling torch-1.9.0+cu102:\n",
            "      Successfully uninstalled torch-1.9.0+cu102\n",
            "  Attempting uninstall: torchvision\n",
            "    Found existing installation: torchvision 0.10.0+cu102\n",
            "    Uninstalling torchvision-0.10.0+cu102:\n",
            "      Successfully uninstalled torchvision-0.10.0+cu102\n",
            "\u001b[31mERROR: pip's dependency resolver does not currently take into account all the packages that are installed. This behaviour is the source of the following dependency conflicts.\n",
            "torchtext 0.10.0 requires torch==1.9.0, but you have torch 0.4.1.post2 which is incompatible.\n",
            "fastai 1.0.61 requires torch>=1.0.0, but you have torch 0.4.1.post2 which is incompatible.\u001b[0m\n",
            "Successfully installed torch-0.4.1.post2 torchvision-0.1.8\n"
          ]
        }
      ]
    },
    {
      "cell_type": "code",
      "metadata": {
        "colab": {
          "base_uri": "https://localhost:8080/"
        },
        "id": "hCDKklJ6vej3",
        "outputId": "51be1a38-2852-4389-b6df-8ccaace7803e"
      },
      "source": [
        "!python run_mnist.py --dataset mnist --epochs 20 --no_dropout --output_dir mnist_results --seed 2"
      ],
      "execution_count": 4,
      "outputs": [
        {
          "output_type": "stream",
          "name": "stdout",
          "text": [
            "{'dataset': 'mnist', 'batch_size': 64, 'epochs': 20, 'lr': 0.01, 'momentum': 0.5, 'no_cuda': False, 'seed': 2, 'sorting_file': 'none', 'remove_n': 0, 'keep_lowest_n': 0, 'no_dropout': True, 'input_dir': 'mnist_results/', 'output_dir': 'mnist_results'}\n",
            "Downloading http://yann.lecun.com/exdb/mnist/train-images-idx3-ubyte.gz\n",
            "Downloading http://yann.lecun.com/exdb/mnist/train-labels-idx1-ubyte.gz\n",
            "Downloading http://yann.lecun.com/exdb/mnist/t10k-images-idx3-ubyte.gz\n",
            "Downloading http://yann.lecun.com/exdb/mnist/t10k-labels-idx1-ubyte.gz\n",
            "Processing...\n",
            "Done!\n",
            "Training on 60000 examples\n",
            "/usr/local/lib/python3.7/dist-packages/torch/nn/functional.py:52: UserWarning: size_average and reduce args will be deprecated, please use reduction='none' instead.\n",
            "  warnings.warn(warning.format(ret))\n",
            "| Epoch [  0/ 20] Iter[938/938]\t\tLoss: 0.0137 Acc@1: 85.342%\n",
            "| Validation Epoch #0\t\t\tLoss: 0.0222 Acc@1: 96.08%\n",
            "| Elapsed time : 0:00:29\n",
            "| Epoch [  1/ 20] Iter[938/938]\t\tLoss: 0.0223 Acc@1: 96.725%\n",
            "| Validation Epoch #1\t\t\tLoss: 0.0019 Acc@1: 97.66%\n",
            "| Elapsed time : 0:00:58\n",
            "| Epoch [  2/ 20] Iter[938/938]\t\tLoss: 0.0093 Acc@1: 97.598%\n",
            "| Validation Epoch #2\t\t\tLoss: 0.0017 Acc@1: 98.14%\n",
            "| Elapsed time : 0:01:27\n",
            "| Epoch [  3/ 20] Iter[938/938]\t\tLoss: 0.0325 Acc@1: 98.118%\n",
            "| Validation Epoch #3\t\t\tLoss: 0.0011 Acc@1: 98.16%\n",
            "| Elapsed time : 0:01:57\n",
            "| Epoch [  4/ 20] Iter[938/938]\t\tLoss: 0.1115 Acc@1: 98.360%\n",
            "| Validation Epoch #4\t\t\tLoss: 0.0005 Acc@1: 98.45%\n",
            "| Elapsed time : 0:02:26\n",
            "| Epoch [  5/ 20] Iter[938/938]\t\tLoss: 0.0071 Acc@1: 98.592%\n",
            "| Validation Epoch #5\t\t\tLoss: 0.0003 Acc@1: 98.50%\n",
            "| Elapsed time : 0:02:56\n",
            "| Epoch [  6/ 20] Iter[938/938]\t\tLoss: 0.1698 Acc@1: 98.697%\n",
            "| Validation Epoch #6\t\t\tLoss: 0.0004 Acc@1: 98.49%\n",
            "| Elapsed time : 0:03:25\n",
            "| Epoch [  7/ 20] Iter[938/938]\t\tLoss: 0.0148 Acc@1: 98.788%\n",
            "| Validation Epoch #7\t\t\tLoss: 0.0004 Acc@1: 98.70%\n",
            "| Elapsed time : 0:03:54\n",
            "| Epoch [  8/ 20] Iter[938/938]\t\tLoss: 0.2118 Acc@1: 98.920%\n",
            "| Validation Epoch #8\t\t\tLoss: 0.0012 Acc@1: 98.81%\n",
            "| Elapsed time : 0:04:23\n",
            "| Epoch [  9/ 20] Iter[938/938]\t\tLoss: 0.0514 Acc@1: 98.973%\n",
            "| Validation Epoch #9\t\t\tLoss: 0.0003 Acc@1: 98.64%\n",
            "| Elapsed time : 0:04:52\n",
            "| Epoch [ 10/ 20] Iter[938/938]\t\tLoss: 0.0202 Acc@1: 99.043%\n",
            "| Validation Epoch #10\t\t\tLoss: 0.0005 Acc@1: 98.73%\n",
            "| Elapsed time : 0:05:21\n",
            "| Epoch [ 11/ 20] Iter[938/938]\t\tLoss: 0.0435 Acc@1: 99.080%\n",
            "| Validation Epoch #11\t\t\tLoss: 0.0020 Acc@1: 98.59%\n",
            "| Elapsed time : 0:05:51\n",
            "| Epoch [ 12/ 20] Iter[938/938]\t\tLoss: 0.0548 Acc@1: 99.150%\n",
            "| Validation Epoch #12\t\t\tLoss: 0.0000 Acc@1: 98.53%\n",
            "| Elapsed time : 0:06:20\n",
            "| Epoch [ 13/ 20] Iter[938/938]\t\tLoss: 0.0050 Acc@1: 99.222%\n",
            "| Validation Epoch #13\t\t\tLoss: 0.0008 Acc@1: 98.78%\n",
            "| Elapsed time : 0:06:49\n",
            "| Epoch [ 14/ 20] Iter[938/938]\t\tLoss: 0.0016 Acc@1: 99.243%\n",
            "| Validation Epoch #14\t\t\tLoss: 0.0008 Acc@1: 98.81%\n",
            "| Elapsed time : 0:07:18\n",
            "| Epoch [ 15/ 20] Iter[938/938]\t\tLoss: 0.0100 Acc@1: 99.293%\n",
            "| Validation Epoch #15\t\t\tLoss: 0.0018 Acc@1: 98.78%\n",
            "| Elapsed time : 0:07:47\n",
            "| Epoch [ 16/ 20] Iter[938/938]\t\tLoss: 0.0016 Acc@1: 99.368%\n",
            "| Validation Epoch #16\t\t\tLoss: 0.0002 Acc@1: 98.84%\n",
            "| Elapsed time : 0:08:17\n",
            "| Epoch [ 17/ 20] Iter[938/938]\t\tLoss: 0.0195 Acc@1: 99.405%\n",
            "| Validation Epoch #17\t\t\tLoss: 0.0005 Acc@1: 98.79%\n",
            "| Elapsed time : 0:08:46\n",
            "| Epoch [ 18/ 20] Iter[938/938]\t\tLoss: 0.0046 Acc@1: 99.430%\n",
            "| Validation Epoch #18\t\t\tLoss: 0.0025 Acc@1: 98.81%\n",
            "| Elapsed time : 0:09:15\n",
            "| Epoch [ 19/ 20] Iter[938/938]\t\tLoss: 0.0022 Acc@1: 99.492%\n",
            "| Validation Epoch #19\t\t\tLoss: 0.0032 Acc@1: 98.88%\n",
            "| Elapsed time : 0:09:44\n"
          ]
        }
      ]
    },
    {
      "cell_type": "code",
      "metadata": {
        "colab": {
          "base_uri": "https://localhost:8080/"
        },
        "id": "k_b0CjuTxQFr",
        "outputId": "1426d638-4031-444e-b60d-c40112abfed5"
      },
      "source": [
        "!python order_examples_by_forgetting.py --output_dir mnist_results --output_name mnist_sorted --input_dir mnist_results --input_fname_args dataset mnist no_dropout True sorting_file none remove_n 0 keep_lowest_n 0"
      ],
      "execution_count": 5,
      "outputs": [
        {
          "output_type": "stream",
          "name": "stdout",
          "text": [
            "Namespace(epochs=200, input_dir='mnist_results', input_fname_args=['dataset', 'mnist', 'no_dropout', 'True', 'sorting_file', 'none', 'remove_n', '0', 'keep_lowest_n', '0'], output_dir='mnist_results', output_name='mnist_sorted')\n",
            "including file: dataset_mnist__no_dropout_True__seed_2__sorting_file_none__remove_n_0__keep_lowest_n_0__stats_dict.pkl\n",
            "Number of unforgettable examples: 57616\n"
          ]
        }
      ]
    },
    {
      "cell_type": "code",
      "metadata": {
        "id": "F9K_RgywOvLJ"
      },
      "source": [
        ""
      ],
      "execution_count": null,
      "outputs": []
    }
  ]
}